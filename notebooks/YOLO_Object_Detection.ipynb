{
 "cells": [
  {
   "cell_type": "markdown",
   "metadata": {},
   "source": [
    "# Importing Required Libraries"
   ]
  },
  {
   "cell_type": "code",
   "execution_count": 1,
   "metadata": {},
   "outputs": [],
   "source": [
    "import torch\n",
    "import cv2\n",
    "from matplotlib import pyplot as plt\n",
    "from pathlib import Path\n",
    "import pandas as pd\n",
    "import os\n"
   ]
  },
  {
   "cell_type": "markdown",
   "metadata": {},
   "source": [
    "# Loading YOLOv5 Model"
   ]
  },
  {
   "cell_type": "code",
   "execution_count": 2,
   "metadata": {},
   "outputs": [
    {
     "name": "stderr",
     "output_type": "stream",
     "text": [
      "Using cache found in C:\\Users\\habteyes.asfaw/.cache\\torch\\hub\\ultralytics_yolov5_master\n",
      "YOLOv5  2024-10-13 Python-3.12.7 torch-2.4.1+cpu CPU\n",
      "\n",
      "Fusing layers... \n",
      "YOLOv5s summary: 213 layers, 7225885 parameters, 0 gradients, 16.4 GFLOPs\n",
      "Adding AutoShape... \n"
     ]
    }
   ],
   "source": [
    "# Load YOLOv5 model (you can use 'yolov5s' or other variations of the model)\n",
    "model = torch.hub.load('ultralytics/yolov5', 'yolov5s')  # small version of YOLO\n"
   ]
  },
  {
   "cell_type": "markdown",
   "metadata": {},
   "source": [
    "# Preparing the Image Data"
   ]
  },
  {
   "cell_type": "code",
   "execution_count": 3,
   "metadata": {},
   "outputs": [],
   "source": [
    "# Path to the directory where images are stored\n",
    "image_dir = Path('../data/photos')"
   ]
  },
  {
   "cell_type": "code",
   "execution_count": 4,
   "metadata": {},
   "outputs": [
    {
     "name": "stdout",
     "output_type": "stream",
     "text": [
      "Total images found: 4821\n"
     ]
    }
   ],
   "source": [
    "# List all image files\n",
    "image_files = list(image_dir.glob('*.jpg'))\n",
    "print(f'Total images found: {len(image_files)}')"
   ]
  },
  {
   "cell_type": "markdown",
   "metadata": {},
   "source": [
    " # Performing Object Detection on Images"
   ]
  },
  {
   "cell_type": "code",
   "execution_count": null,
   "metadata": {},
   "outputs": [],
   "source": [
    "# Perform detection on each image and store results\n",
    "detections = []\n",
    "for img_path in image_files:\n",
    "    # Perform inference on image\n",
    "    results = model(img_path)\n",
    "    \n",
    "    # Save results (bounding boxes, labels, scores)\n",
    "    detection_data = results.pandas().xyxy[0]  # convert detection to pandas DataFrame\n",
    "    detection_data['image'] = img_path.name\n",
    "    detections.append(detection_data)\n",
    "    \n",
    "    # Visualize the detection results\n",
    "    # results.show()\n",
    "\n",
    "# Combine all detection results into a single DataFrame\n",
    "detection_df = pd.concat(detections, ignore_index=True)    \n",
    "results.save(save_dir='detection_results/')  # Save detection results to a directory\n",
    "\n",
    "\n"
   ]
  }
 ],
 "metadata": {
  "kernelspec": {
   "display_name": "venv",
   "language": "python",
   "name": "python3"
  },
  "language_info": {
   "codemirror_mode": {
    "name": "ipython",
    "version": 3
   },
   "file_extension": ".py",
   "mimetype": "text/x-python",
   "name": "python",
   "nbconvert_exporter": "python",
   "pygments_lexer": "ipython3",
   "version": "3.12.7"
  }
 },
 "nbformat": 4,
 "nbformat_minor": 2
}
