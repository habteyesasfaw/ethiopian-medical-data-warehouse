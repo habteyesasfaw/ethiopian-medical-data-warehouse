{
 "cells": [
  {
   "cell_type": "markdown",
   "metadata": {},
   "source": [
    "# Importing Required Libraries"
   ]
  },
  {
   "cell_type": "code",
   "execution_count": 11,
   "metadata": {},
   "outputs": [],
   "source": [
    "import torch\n",
    "import cv2\n",
    "from matplotlib import pyplot as plt\n",
    "from pathlib import Path\n",
    "import pandas as pd\n",
    "import os\n",
    "import sys\n",
    "import pandas as pd\n",
    "import logging\n",
    "\n",
    "# Append the parent directory to the system path\n",
    "sys.path.append(os.path.abspath(os.path.join(os.getcwd(), '../')))\n",
    "\n",
    "# Now import PostgresConnection from the db_connection module\n",
    "from db_connection.yolo_db_connection import PostgresConnection\n"
   ]
  },
  {
   "cell_type": "markdown",
   "metadata": {},
   "source": [
    "# Loading YOLOv5 Model"
   ]
  },
  {
   "cell_type": "code",
   "execution_count": 2,
   "metadata": {},
   "outputs": [
    {
     "name": "stderr",
     "output_type": "stream",
     "text": [
      "Using cache found in C:\\Users\\habteyes.asfaw/.cache\\torch\\hub\\ultralytics_yolov5_master\n",
      "YOLOv5  2024-10-13 Python-3.12.7 torch-2.4.1+cpu CPU\n",
      "\n",
      "Fusing layers... \n",
      "YOLOv5s summary: 213 layers, 7225885 parameters, 0 gradients, 16.4 GFLOPs\n",
      "Adding AutoShape... \n"
     ]
    }
   ],
   "source": [
    "# Load YOLOv5 model (you can use 'yolov5s' or other variations of the model)\n",
    "model = torch.hub.load('ultralytics/yolov5', 'yolov5s')  # small version of YOLO\n"
   ]
  },
  {
   "cell_type": "markdown",
   "metadata": {},
   "source": [
    "# Preparing the Image Data"
   ]
  },
  {
   "cell_type": "code",
   "execution_count": 3,
   "metadata": {},
   "outputs": [],
   "source": [
    "# Path to the directory where images are stored\n",
    "image_dir = Path('../data/photos')"
   ]
  },
  {
   "cell_type": "code",
   "execution_count": 4,
   "metadata": {},
   "outputs": [
    {
     "name": "stdout",
     "output_type": "stream",
     "text": [
      "Total images found: 4821\n"
     ]
    }
   ],
   "source": [
    "# List all image files\n",
    "image_files = list(image_dir.glob('*.jpg'))\n",
    "print(f'Total images found: {len(image_files)}')"
   ]
  },
  {
   "cell_type": "markdown",
   "metadata": {},
   "source": [
    " # Performing Object Detection on Images"
   ]
  },
  {
   "cell_type": "code",
   "execution_count": null,
   "metadata": {},
   "outputs": [],
   "source": [
    "# Perform detection on each image and store results\n",
    "detections = []\n",
    "for img_path in image_files:\n",
    "    # Perform inference on image\n",
    "    results = model(img_path)\n",
    "    \n",
    "    # Save results (bounding boxes, labels, scores)\n",
    "    detection_data = results.pandas().xyxy[0]  # convert detection to pandas DataFrame\n",
    "    detection_data['image'] = img_path.name\n",
    "    detections.append(detection_data)\n",
    "    \n",
    "    # Visualize the detection results\n",
    "    # results.show()\n",
    "\n",
    "# Combine all detection results into a single DataFrame\n",
    "detection_df = pd.concat(detections, ignore_index=True)    \n",
    "\n",
    "\n"
   ]
  },
  {
   "cell_type": "code",
   "execution_count": 17,
   "metadata": {},
   "outputs": [],
   "source": [
    "# Rename column in DataFrame before saving to SQL\n",
    "detection_df.rename(columns={\n",
    "    'xmin': 'xmin_value',\n",
    "    'xmax': 'xmax_value'\n",
    "}, inplace=True)"
   ]
  },
  {
   "cell_type": "markdown",
   "metadata": {},
   "source": [
    " # Processing Detection Results"
   ]
  },
  {
   "cell_type": "code",
   "execution_count": 18,
   "metadata": {},
   "outputs": [
    {
     "data": {
      "text/html": [
       "<div>\n",
       "<style scoped>\n",
       "    .dataframe tbody tr th:only-of-type {\n",
       "        vertical-align: middle;\n",
       "    }\n",
       "\n",
       "    .dataframe tbody tr th {\n",
       "        vertical-align: top;\n",
       "    }\n",
       "\n",
       "    .dataframe thead th {\n",
       "        text-align: right;\n",
       "    }\n",
       "</style>\n",
       "<table border=\"1\" class=\"dataframe\">\n",
       "  <thead>\n",
       "    <tr style=\"text-align: right;\">\n",
       "      <th></th>\n",
       "      <th>xmin_value</th>\n",
       "      <th>ymin</th>\n",
       "      <th>xmax_value</th>\n",
       "      <th>ymax</th>\n",
       "      <th>confidence</th>\n",
       "      <th>class</th>\n",
       "      <th>name</th>\n",
       "      <th>image</th>\n",
       "    </tr>\n",
       "  </thead>\n",
       "  <tbody>\n",
       "    <tr>\n",
       "      <th>0</th>\n",
       "      <td>318.366425</td>\n",
       "      <td>394.813049</td>\n",
       "      <td>382.800201</td>\n",
       "      <td>462.255859</td>\n",
       "      <td>0.729678</td>\n",
       "      <td>32</td>\n",
       "      <td>sports ball</td>\n",
       "      <td>CheMed123_13.jpg</td>\n",
       "    </tr>\n",
       "    <tr>\n",
       "      <th>1</th>\n",
       "      <td>739.459229</td>\n",
       "      <td>544.979797</td>\n",
       "      <td>807.581909</td>\n",
       "      <td>615.879944</td>\n",
       "      <td>0.684087</td>\n",
       "      <td>32</td>\n",
       "      <td>sports ball</td>\n",
       "      <td>CheMed123_13.jpg</td>\n",
       "    </tr>\n",
       "    <tr>\n",
       "      <th>2</th>\n",
       "      <td>738.390198</td>\n",
       "      <td>542.634155</td>\n",
       "      <td>807.933777</td>\n",
       "      <td>616.783691</td>\n",
       "      <td>0.677431</td>\n",
       "      <td>41</td>\n",
       "      <td>cup</td>\n",
       "      <td>CheMed123_13.jpg</td>\n",
       "    </tr>\n",
       "    <tr>\n",
       "      <th>3</th>\n",
       "      <td>668.202393</td>\n",
       "      <td>589.573730</td>\n",
       "      <td>730.860596</td>\n",
       "      <td>657.322266</td>\n",
       "      <td>0.511538</td>\n",
       "      <td>32</td>\n",
       "      <td>sports ball</td>\n",
       "      <td>CheMed123_13.jpg</td>\n",
       "    </tr>\n",
       "    <tr>\n",
       "      <th>4</th>\n",
       "      <td>231.458694</td>\n",
       "      <td>473.585480</td>\n",
       "      <td>299.499542</td>\n",
       "      <td>536.707458</td>\n",
       "      <td>0.450486</td>\n",
       "      <td>32</td>\n",
       "      <td>sports ball</td>\n",
       "      <td>CheMed123_13.jpg</td>\n",
       "    </tr>\n",
       "  </tbody>\n",
       "</table>\n",
       "</div>"
      ],
      "text/plain": [
       "   xmin_value        ymin  xmax_value        ymax  confidence class  \\\n",
       "0  318.366425  394.813049  382.800201  462.255859    0.729678    32   \n",
       "1  739.459229  544.979797  807.581909  615.879944    0.684087    32   \n",
       "2  738.390198  542.634155  807.933777  616.783691    0.677431    41   \n",
       "3  668.202393  589.573730  730.860596  657.322266    0.511538    32   \n",
       "4  231.458694  473.585480  299.499542  536.707458    0.450486    32   \n",
       "\n",
       "          name             image  \n",
       "0  sports ball  CheMed123_13.jpg  \n",
       "1  sports ball  CheMed123_13.jpg  \n",
       "2          cup  CheMed123_13.jpg  \n",
       "3  sports ball  CheMed123_13.jpg  \n",
       "4  sports ball  CheMed123_13.jpg  "
      ]
     },
     "execution_count": 18,
     "metadata": {},
     "output_type": "execute_result"
    }
   ],
   "source": [
    "# Display a few rows of the detection results\n",
    "detection_df.head()\n",
    "\n",
    "# Columns include: xmin, ymin, xmax, ymax, confidence, class, name (class label), image\n"
   ]
  },
  {
   "cell_type": "markdown",
   "metadata": {},
   "source": [
    "# Storing Detection Results in Database"
   ]
  },
  {
   "cell_type": "code",
   "execution_count": 19,
   "metadata": {},
   "outputs": [
    {
     "name": "stderr",
     "output_type": "stream",
     "text": [
      "INFO:root:Detection results saved to PostgreSQL database.\n"
     ]
    }
   ],
   "source": [
    "from sqlalchemy import create_engine\n",
    "\n",
    "# PostgreSQL connection parameters\n",
    "dbname = \"object_detection\"\n",
    "user = \"postgres\"\n",
    "password = \"root\"\n",
    "host = \"localhost\"\n",
    "port = \"5432\"\n",
    "\n",
    "# Create a connection string\n",
    "connection_string = f'postgresql://{user}:{password}@{host}:{port}/{dbname}'\n",
    "engine = create_engine(connection_string)\n",
    "\n",
    "# Save detection results to the PostgreSQL database\n",
    "detection_df.to_sql('object_detection_results', engine, if_exists='replace', index=False)\n",
    "logging.info(\"Detection results saved to PostgreSQL database.\")\n"
   ]
  },
  {
   "cell_type": "code",
   "execution_count": 22,
   "metadata": {},
   "outputs": [
    {
     "name": "stderr",
     "output_type": "stream",
     "text": [
      "INFO:root:Object detection completed successfully.\n"
     ]
    }
   ],
   "source": [
    "import logging\n",
    "\n",
    "logging.basicConfig(filename='object_detection.log', level=logging.INFO)\n",
    "\n",
    "try:\n",
    "    # Object detection process\n",
    "    logging.info('Object detection completed successfully.')\n",
    "except Exception as e:\n",
    "    logging.error(f'Error occurred: {e}')\n"
   ]
  }
 ],
 "metadata": {
  "kernelspec": {
   "display_name": "venv",
   "language": "python",
   "name": "python3"
  },
  "language_info": {
   "codemirror_mode": {
    "name": "ipython",
    "version": 3
   },
   "file_extension": ".py",
   "mimetype": "text/x-python",
   "name": "python",
   "nbconvert_exporter": "python",
   "pygments_lexer": "ipython3",
   "version": "3.12.7"
  }
 },
 "nbformat": 4,
 "nbformat_minor": 2
}
